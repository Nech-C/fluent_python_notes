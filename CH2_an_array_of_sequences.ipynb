{
 "cells": [
  {
   "cell_type": "markdown",
   "metadata": {},
   "source": [
    "## Pattern Matching with Sequences"
   ]
  },
  {
   "cell_type": "code",
   "execution_count": 4,
   "metadata": {},
   "outputs": [],
   "source": [
    "commands = [\n",
    "    [\"BEEPER\", 20, 5],\n",
    "    [\"NECK\", 0.2],\n",
    "    [\"LED\", 3, 6],\n",
    "    [\"LED\", 4, 125, 125, 255],\n",
    "    [\"AVC\", 0.5],\n",
    "    [\"BEEPER\", 1]\n",
    "]\n",
    "\n",
    "\n",
    "def handle_command(message):\n",
    "    match message:\n",
    "        case (\"BEEPER\", frequency, times):\n",
    "            print(f\"Beep {times} times at {frequency} Hz\")\n",
    "        case [\"NECK\", angle]:\n",
    "            print(f\"Rotate neck for {angle} degrees\")\n",
    "        case [\"LED\", ident, intensity]:\n",
    "            print(f\"Set LED {ident} to intensity {intensity}\")\n",
    "        case [\"LED\", ident, red, green, blue]:\n",
    "            print(f\"Set LED {ident} to color ({red}, {green}, {blue})\")\n",
    "        case _:\n",
    "            print(\"Unknown command\")"
   ]
  },
  {
   "cell_type": "code",
   "execution_count": null,
   "metadata": {},
   "outputs": [],
   "source": [
    "print(list(map(handle_command, commands)))"
   ]
  },
  {
   "cell_type": "markdown",
   "metadata": {},
   "source": [
    "\"In a sequence pattern, square brackets and parentheses mean the same thing. A sequence pattern can match instances of most actual or virtual subclasses of collections.abc.Sequence, with the exception of str, bytes, and bytearray.\""
   ]
  },
  {
   "cell_type": "code",
   "execution_count": 22,
   "metadata": {},
   "outputs": [
    {
     "name": "stdout",
     "output_type": "stream",
     "text": [
      "type constraints in a sequency pattern:\n",
      "Name: Alice, Age: 25\n",
      "Invalid record\n",
      "Invalid record\n",
      "Invalid record\n",
      "*_ to match any number of items:\n",
      "Name: Carl, Weight: 50, gender: male\n",
      "using *extra instead of *_:\n",
      "Name: Carl, Weight: 50, gender: male\n",
      "Extra: [25, 175]\n",
      "if can be used as an optional guard clause:\n",
      "Name: Bob, Age: 25.5\n"
     ]
    }
   ],
   "source": [
    "records = [\n",
    "    [\"Alice\", 25],\n",
    "    [\"Bob\", 25.5],\n",
    "    [\"Carl\", 25, 175, 50, \"male\"],\n",
    "    [25, 25]\n",
    "    ]\n",
    "\n",
    "\n",
    "# You can also add type constraints in a sequency pattern:\n",
    "print(\"type constraints in a sequency pattern:\")\n",
    "for record in records:\n",
    "    match record:\n",
    "        case [str(name), int(age)]:\n",
    "            print(f\"Name: {name}, Age: {age}\")\n",
    "        case _:\n",
    "            print(\"Invalid record\")\n",
    "        \n",
    "\n",
    "# You can you *_ to match any number of items\n",
    "print(\"*_ to match any number of items:\")\n",
    "for record in records:\n",
    "    match record:\n",
    "        case [str(name), *_, weight, str(gender)]:\n",
    "            print(f\"Name: {name}, Weight: {weight}, gender: {gender}\")\n",
    "        \n",
    "        \n",
    "# Using *extra instead of *_ will bind the extra items to a variable\n",
    "print(\"using *extra instead of *_:\")\n",
    "for record in records:\n",
    "    match record:\n",
    "        case [str(name), *extra, weight, str(gender)]:\n",
    "            print(f\"Name: {name}, Weight: {weight}, gender: {gender}\")\n",
    "            print(f\"Extra: {extra}\")\n",
    "\n",
    "# \"if\" can be used as an optional guard clause. the \"if\" clause only gets evaluated if the pattern matches\n",
    "print(\"if can be used as an optional guard clause:\")\n",
    "for record in records:\n",
    "    match record:\n",
    "        case [str(name), age] if age > 25:\n",
    "            print(f\"Name: {name}, Age: {age}\")\n"
   ]
  },
  {
   "cell_type": "markdown",
   "metadata": {},
   "source": [
    "# Slicing"
   ]
  },
  {
   "cell_type": "markdown",
   "metadata": {},
   "source": [
    "## Slice objects"
   ]
  },
  {
   "cell_type": "markdown",
   "metadata": {},
   "source": [
    "syntax: seq[start:stop:step]"
   ]
  },
  {
   "cell_type": "code",
   "execution_count": 24,
   "metadata": {},
   "outputs": [
    {
     "name": "stdout",
     "output_type": "stream",
     "text": [
      "bye\n",
      "elcycib\n",
      "eccb\n"
     ]
    }
   ],
   "source": [
    "s = 'bicycle'\n",
    "print(s[::3])\n",
    "print(s[::-1])\n",
    "print(s[::-2])\n"
   ]
  },
  {
   "cell_type": "markdown",
   "metadata": {},
   "source": [
    "## Assigning to SLices"
   ]
  },
  {
   "cell_type": "code",
   "execution_count": 25,
   "metadata": {},
   "outputs": [
    {
     "name": "stdout",
     "output_type": "stream",
     "text": [
      "l: [0, 1, 2, 3, 4, 5, 6, 7, 8, 9]\n",
      "after l[2:5] = [20, 30]: [0, 1, 20, 30, 5, 6, 7, 8, 9]\n",
      "after del l[5:7]: [0, 1, 20, 30, 5, 8, 9]\n",
      "after l[3::2] = [11, 22]: [0, 1, 20, 11, 5, 22, 9]\n"
     ]
    },
    {
     "ename": "TypeError",
     "evalue": "can only assign an iterable",
     "output_type": "error",
     "traceback": [
      "\u001b[1;31m---------------------------------------------------------------------------\u001b[0m",
      "\u001b[1;31mTypeError\u001b[0m                                 Traceback (most recent call last)",
      "Cell \u001b[1;32mIn[25], line 13\u001b[0m\n\u001b[0;32m     10\u001b[0m l[\u001b[38;5;241m3\u001b[39m::\u001b[38;5;241m2\u001b[39m] \u001b[38;5;241m=\u001b[39m [\u001b[38;5;241m11\u001b[39m, \u001b[38;5;241m22\u001b[39m]\n\u001b[0;32m     11\u001b[0m \u001b[38;5;28mprint\u001b[39m(\u001b[38;5;124mf\u001b[39m\u001b[38;5;124m\"\u001b[39m\u001b[38;5;124mafter l[3::2] = [11, 22]: \u001b[39m\u001b[38;5;132;01m{\u001b[39;00ml\u001b[38;5;132;01m}\u001b[39;00m\u001b[38;5;124m\"\u001b[39m)\n\u001b[1;32m---> 13\u001b[0m l[\u001b[38;5;241m2\u001b[39m:\u001b[38;5;241m5\u001b[39m] \u001b[38;5;241m=\u001b[39m \u001b[38;5;241m100\u001b[39m\n",
      "\u001b[1;31mTypeError\u001b[0m: can only assign an iterable"
     ]
    }
   ],
   "source": [
    "l = list(range(10))\n",
    "print(f\"l: {l}\")\n",
    "\n",
    "l[2:5] = [20, 30]\n",
    "print(f\"after l[2:5] = [20, 30]: {l}\")\n",
    "\n",
    "del l[5:7]\n",
    "print(f\"after del l[5:7]: {l}\")\n",
    "\n",
    "l[3::2] = [11, 22]\n",
    "print(f\"after l[3::2] = [11, 22]: {l}\")\n",
    "\n",
    "l[2:5] = 100"
   ]
  },
  {
   "cell_type": "code",
   "execution_count": 26,
   "metadata": {},
   "outputs": [
    {
     "name": "stdout",
     "output_type": "stream",
     "text": [
      "after l[2:5] = [100]: [0, 1, 100, 22, 9]\n"
     ]
    }
   ],
   "source": [
    "l[2:5] = [100]\n",
    "print(f\"after l[2:5] = [100]: {l}\")"
   ]
  },
  {
   "cell_type": "markdown",
   "metadata": {},
   "source": [
    "# Sequence operations"
   ]
  },
  {
   "cell_type": "markdown",
   "metadata": {},
   "source": [
    "## Using _+_ and _*_ with Sequences"
   ]
  },
  {
   "cell_type": "code",
   "execution_count": 27,
   "metadata": {},
   "outputs": [
    {
     "name": "stdout",
     "output_type": "stream",
     "text": [
      "l * 5: [1, 2, 3, 1, 2, 3, 1, 2, 3, 1, 2, 3, 1, 2, 3]\n",
      "5 * 'abcd': abcdabcdabcdabcdabcd\n"
     ]
    }
   ],
   "source": [
    "l = [1, 2, 3]\n",
    "print(f\"l * 5: {l * 5}\")\n",
    "print(f\"5 * 'abcd': {5 * 'abcd'}\")"
   ]
  },
  {
   "cell_type": "markdown",
   "metadata": {},
   "source": [
    "## Building Lists of Lists"
   ]
  },
  {
   "cell_type": "markdown",
   "metadata": {},
   "source": [
    "With list comprehension:"
   ]
  },
  {
   "cell_type": "code",
   "execution_count": 28,
   "metadata": {},
   "outputs": [
    {
     "name": "stdout",
     "output_type": "stream",
     "text": [
      "board: [['_', '_', '_'], ['_', '_', '_'], ['_', '_', '_']]\n",
      "board: [['_', '_', '_'], ['_', '_', 'X'], ['_', '_', '_']]\n"
     ]
    }
   ],
   "source": [
    "board = [[\"_\"] * 3 for i in range(3)]\n",
    "print(f\"board: {board}\")\n",
    "\n",
    "board[1][2] = \"X\"\n",
    "print(f\"board: {board}\")"
   ]
  },
  {
   "cell_type": "markdown",
   "metadata": {},
   "source": [
    "Incorrect shortcut way of doing it:"
   ]
  },
  {
   "cell_type": "code",
   "execution_count": 29,
   "metadata": {},
   "outputs": [
    {
     "name": "stdout",
     "output_type": "stream",
     "text": [
      "weird_board: [['_', '_', '_'], ['_', '_', '_'], ['_', '_', '_']]\n",
      "weird_board: [['_', '_', 'O'], ['_', '_', 'O'], ['_', '_', 'O']]\n"
     ]
    }
   ],
   "source": [
    "weird_board = [[\"_\"] * 3] * 3\n",
    "print(f\"weird_board: {weird_board}\")\n",
    "weird_board[1][2] = \"O\"\n",
    "print(f\"weird_board: {weird_board}\")"
   ]
  },
  {
   "cell_type": "markdown",
   "metadata": {},
   "source": [
    "\"The outer list is made of three references to the same inner list. Placing a mark in row 1, col 2 reveals that all rows are aliases referring  o the same object\""
   ]
  },
  {
   "cell_type": "markdown",
   "metadata": {},
   "source": [
    "## Augmented Assignment with Sequences"
   ]
  },
  {
   "cell_type": "markdown",
   "metadata": {},
   "source": [
    "\"The special method that makes += work is \\_\\_iadd\\_\\_ (for \"in-place addition\") However, if \\_\\_iadd\\_\\_ is not implemented, Python falls back to calling \\_\\_add\\_\\_.\"\n",
    "\n",
    "\" Consider  \n",
    "a += b \n",
    "\n",
    "If a implements \\_\\_iadd\\_\\_, that will be called. In the case of mutable sequences (e.g.,\n",
    "list, bytearray, array.array), a will be changed in place (i.e., the effect will be sim‐\n",
    "ilar to a.extend(b)). However, when a does not implement \\_\\_iadd\\_\\_, the expression\n",
    "a += b has the same effect as a = a + b: the expression a + b is evaluated first,\n",
    "producing a new object, which is then bound to a. In other words, the identity of\n",
    "the object bound to a may or may not change, depending on the availability of\n",
    "\\_\\_iadd\\_\\_.\n"
   ]
  },
  {
   "cell_type": "code",
   "execution_count": 30,
   "metadata": {},
   "outputs": [
    {
     "name": "stdout",
     "output_type": "stream",
     "text": [
      "l: [1, 2, 3], id(l): 1628402321280\n",
      "after l *= 2: [1, 2, 3, 1, 2, 3] , id(l): 1628402321280\n",
      "t: (1, 2, 3), id(t): 1628403136256\n",
      "after t *= 2: (1, 2, 3, 1, 2, 3), id(t): 1628404113632\n"
     ]
    }
   ],
   "source": [
    "l = [1, 2, 3]\n",
    "print(f\"l: {l}, id(l): {id(l)}\")\n",
    "\n",
    "l *= 2\n",
    "print(f\"after l *= 2: {l} , id(l): {id(l)}\")\n",
    "\n",
    "\n",
    "t = (1, 2, 3)\n",
    "print(f\"t: {t}, id(t): {id(t)}\")\n",
    "\n",
    "t *= 2\n",
    "print(f\"after t *= 2: {t}, id(t): {id(t)}\")\n"
   ]
  },
  {
   "cell_type": "markdown",
   "metadata": {},
   "source": [
    "## A += Assignment Puzzler"
   ]
  },
  {
   "cell_type": "markdown",
   "metadata": {},
   "source": [
    "What happens when you use += to modify a list inside a tuple?"
   ]
  },
  {
   "cell_type": "code",
   "execution_count": 31,
   "metadata": {},
   "outputs": [
    {
     "ename": "TypeError",
     "evalue": "'tuple' object does not support item assignment",
     "output_type": "error",
     "traceback": [
      "\u001b[1;31m---------------------------------------------------------------------------\u001b[0m",
      "\u001b[1;31mTypeError\u001b[0m                                 Traceback (most recent call last)",
      "Cell \u001b[1;32mIn[31], line 2\u001b[0m\n\u001b[0;32m      1\u001b[0m t \u001b[38;5;241m=\u001b[39m (\u001b[38;5;241m1\u001b[39m, \u001b[38;5;241m2\u001b[39m, [\u001b[38;5;241m30\u001b[39m, \u001b[38;5;241m40\u001b[39m])\n\u001b[1;32m----> 2\u001b[0m t[\u001b[38;5;241m2\u001b[39m] \u001b[38;5;241m+\u001b[39m\u001b[38;5;241m=\u001b[39m [\u001b[38;5;241m50\u001b[39m, \u001b[38;5;241m60\u001b[39m]\n",
      "\u001b[1;31mTypeError\u001b[0m: 'tuple' object does not support item assignment"
     ]
    }
   ],
   "source": [
    "t = (1, 2, [30, 40])\n",
    "t[2] += [50, 60]"
   ]
  },
  {
   "cell_type": "markdown",
   "metadata": {},
   "source": [
    "failed? Let's check the value of t again"
   ]
  },
  {
   "cell_type": "code",
   "execution_count": 32,
   "metadata": {},
   "outputs": [
    {
     "name": "stdout",
     "output_type": "stream",
     "text": [
      "t: (1, 2, [30, 40, 50, 60])\n"
     ]
    }
   ],
   "source": [
    "print(f\"t: {t}\")"
   ]
  },
  {
   "cell_type": "markdown",
   "metadata": {},
   "source": [
    "While there is an error, the value of t is still changed! To see the details, check page 55 of the book."
   ]
  },
  {
   "cell_type": "markdown",
   "metadata": {},
   "source": [
    "## list.sort Versus the sorted Built-in"
   ]
  },
  {
   "cell_type": "markdown",
   "metadata": {},
   "source": [
    "te list.sort method sorts a list in place, and the built-in function sorted creates a new list and returns it.  \n",
    "\"Both list.sort and sorted take two optional, keyword-only arguments:\n",
    "- reverse:  \n",
    "   If True, the items are returned in descending order (i.e., by reversing the comparison of the items). The default is False.\n",
    "- key:  \n",
    "   A one-argument function that will be applied to each item to produce its sorting key. For example, when sorting a list of strings, key=str.lower can be used to perform a case-insensitive sort, and key=len will sort the strings by character length. The default is the identity function (i.e., the items themselves are compared).\""
   ]
  },
  {
   "cell_type": "code",
   "execution_count": 2,
   "metadata": {},
   "outputs": [
    {
     "name": "stdout",
     "output_type": "stream",
     "text": [
      "sorted(fruits): ['apple', 'banana', 'grape', 'raspberry']\n",
      "fruits: ['grape', 'raspberry', 'apple', 'banana']\n",
      "sorted(fruits, reverse=True): ['raspberry', 'grape', 'banana', 'apple']\n",
      "sorted(fruits, key=len): ['grape', 'apple', 'banana', 'raspberry']\n",
      "sorted(fruits, key=len, reverse=True): ['raspberry', 'banana', 'grape', 'apple']\n",
      "fruits: ['grape', 'raspberry', 'apple', 'banana']\n",
      "None\n",
      "fruits: ['apple', 'banana', 'grape', 'raspberry']\n"
     ]
    }
   ],
   "source": [
    "fruits = ['grape', 'raspberry', 'apple', 'banana']\n",
    "print(f\"sorted(fruits): {sorted(fruits)}\")\n",
    "print(f\"fruits: {fruits}\")\n",
    "print(f\"sorted(fruits, reverse=True): {sorted(fruits, reverse=True)}\")\n",
    "print(f\"sorted(fruits, key=len): {sorted(fruits, key=len)}\")\n",
    "print(f\"sorted(fruits, key=len, reverse=True): {sorted(fruits, key=len, reverse=True)}\")\n",
    "print(f\"fruits: {fruits}\")\n",
    "print(fruits.sort())\n",
    "print(f\"fruits: {fruits}\")"
   ]
  },
  {
   "cell_type": "markdown",
   "metadata": {},
   "source": [
    "# Arrays"
   ]
  },
  {
   "cell_type": "markdown",
   "metadata": {},
   "source": [
    "\"If a list only contains numbers, an array.array is a more efficient replacement. Arrays support all mutable sequence operations (including .pop, .insert, and .extend), as well as additional methods for fast loading and saving, such as .frombytes and .tofile.\""
   ]
  },
  {
   "cell_type": "markdown",
   "metadata": {},
   "source": [
    "\"A Python array is as lean as a C array. As shown in Figure 2-1, an array of float values does not hold full-fledged float instances, but only the packed bytes representing their machine values—similar to an array of double in the C language. When creating an array, you provide a typecode, a letter to determine the underlying C type used to store each item in the array. For example, b is the typecode for what C calls a signed char, an integer ranging from –128 to 127. If you create an array('b'), then each item will be stored in a single byte and interpreted as an integer. For large sequences of numbers, this saves a lot of memory. And Python will not let you put any number that does not match the type for the array.\""
   ]
  },
  {
   "cell_type": "code",
   "execution_count": 1,
   "metadata": {},
   "outputs": [
    {
     "name": "stdout",
     "output_type": "stream",
     "text": [
      "floats[-1]: 0.7411227738859714\n",
      "floats2[-1]: 0.7411227738859714\n",
      "True\n"
     ]
    }
   ],
   "source": [
    "from array import array\n",
    "from random import random\n",
    "\n",
    "floats = array('d', (random() for i in range(10**7)))\n",
    "floats[-1]\n",
    "print(f\"floats[-1]: {floats[-1]}\")\n",
    "\n",
    "fp = open('floats.bin', 'wb')\n",
    "floats.tofile(fp)\n",
    "fp.close()\n",
    "floats2 = array('d')\n",
    "fp = open('floats.bin', 'rb')\n",
    "floats2.fromfile(fp, 10**7)\n",
    "fp.close()\n",
    "print(f\"floats2[-1]: {floats2[-1]}\")\n",
    "\n",
    "print(floats2 == floats)\n"
   ]
  },
  {
   "cell_type": "markdown",
   "metadata": {},
   "source": [
    "The comparison of features between list and array.array is on p.g. 61."
   ]
  },
  {
   "cell_type": "markdown",
   "metadata": {},
   "source": [
    "## Memory Views"
   ]
  },
  {
   "cell_type": "markdown",
   "metadata": {},
   "source": [
    "Showing 6 bytes of memory as 1x6, 2x3, and 3x2 views."
   ]
  },
  {
   "cell_type": "code",
   "execution_count": 6,
   "metadata": {},
   "outputs": [
    {
     "name": "stdout",
     "output_type": "stream",
     "text": [
      "m1.tolist(): [0, 1, 2, 3, 4, 5]\n",
      "m2.tolist(): [[0, 1, 2], [3, 4, 5]]\n",
      "m3.tolist(): [[0, 1], [2, 3], [4, 5]]\n"
     ]
    },
    {
     "data": {
      "text/plain": [
       "array('B', [0, 1, 2, 33, 22, 5])"
      ]
     },
     "execution_count": 6,
     "metadata": {},
     "output_type": "execute_result"
    }
   ],
   "source": [
    "from array import array\n",
    "octets = array('B', range(6))\n",
    "\n",
    "m1 =memoryview(octets)\n",
    "m1.tolist()\n",
    "print(f\"m1.tolist(): {m1.tolist()}\")\n",
    "m2 = m1.cast('B', [2, 3])\n",
    "print(f\"m2.tolist(): {m2.tolist()}\")\n",
    "m3 = m1.cast('B', [3, 2])\n",
    "print(f\"m3.tolist(): {m3.tolist()}\")\n",
    "m2[1, 1] = 22\n",
    "m3[1, 1] = 33\n",
    "octets\n"
   ]
  },
  {
   "cell_type": "code",
   "execution_count": 9,
   "metadata": {},
   "outputs": [
    {
     "name": "stdout",
     "output_type": "stream",
     "text": [
      "len(memv): 5\n",
      "memv[0]: -2\n",
      "memv_oct.tolist(): [254, 255, 255, 255, 0, 0, 1, 0, 2, 0]\n"
     ]
    },
    {
     "data": {
      "text/plain": [
       "array('h', [-2, -1, 1024, 1, 2])"
      ]
     },
     "execution_count": 9,
     "metadata": {},
     "output_type": "execute_result"
    }
   ],
   "source": [
    "numbers = array('h', [-2, -1, 0, 1, 2])\n",
    "memv = memoryview(numbers)\n",
    "print(f\"len(memv): {len(memv)}\")\n",
    "print(f\"memv[0]: {memv[0]}\")\n",
    "memv_oct = memv.cast('B')\n",
    "print(f\"memv_oct.tolist(): {memv_oct.tolist()}\")\n",
    "memv_oct[5] = 4\n",
    "numbers"
   ]
  },
  {
   "cell_type": "markdown",
   "metadata": {},
   "source": [
    "## Numpy"
   ]
  },
  {
   "cell_type": "code",
   "execution_count": null,
   "metadata": {},
   "outputs": [],
   "source": []
  }
 ],
 "metadata": {
  "kernelspec": {
   "display_name": "base",
   "language": "python",
   "name": "python3"
  },
  "language_info": {
   "codemirror_mode": {
    "name": "ipython",
    "version": 3
   },
   "file_extension": ".py",
   "mimetype": "text/x-python",
   "name": "python",
   "nbconvert_exporter": "python",
   "pygments_lexer": "ipython3",
   "version": "3.11.7"
  }
 },
 "nbformat": 4,
 "nbformat_minor": 2
}

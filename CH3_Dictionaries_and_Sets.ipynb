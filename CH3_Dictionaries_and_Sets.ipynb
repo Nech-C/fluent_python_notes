{
 "cells": [
  {
   "cell_type": "markdown",
   "metadata": {},
   "source": [
    "# Modern dict Syntax"
   ]
  },
  {
   "cell_type": "markdown",
   "metadata": {},
   "source": [
    "## dict Comprehensions"
   ]
  },
  {
   "cell_type": "code",
   "execution_count": null,
   "metadata": {},
   "outputs": [],
   "source": [
    "#  >>> dial_codes = [                                                  \n",
    "# ...     \n",
    "# (880, 'Bangladesh'),\n",
    "#  ...     \n",
    "# ...     \n",
    "# ...     \n",
    "# ...     \n",
    "# ...     \n",
    "# ...     \n",
    "# ...     \n",
    "# ...     \n",
    "# ...     \n",
    "# (55,  'Brazil'),\n",
    "#  (86,  'China'),\n",
    "#  (91,  'India'),\n",
    "#  (62,  'Indonesia'),\n",
    "#  (81,  'Japan'),\n",
    "#  (234, 'Nigeria'),\n",
    "#  (92,  'Pakistan'),\n",
    "#  (7,   'Russia'),\n",
    "#  (1,   'United States'),\n",
    "#  ... ]\n",
    "#  >>> country_dial = {country: code for code, country in dial_codes}  \n",
    "# >>> country_dial\n",
    "#  {'Bangladesh': 880, 'Brazil': 55, 'China': 86, 'India': 91, 'Indonesia': 62,\n",
    "#  'Japan': 81, 'Nigeria': 234, 'Pakistan': 92, 'Russia': 7, 'United States': 1}\n",
    "#  >>> {code: country.upper()                                          \n",
    "# ...     \n",
    "# ...     \n",
    "# for country, code in sorted(country_dial.items())\n",
    "#  if code < 70}\n",
    "#  {55: 'BRAZIL', 62: 'INDONESIA', 7: 'RUSSIA', 1: 'UNITED STATES'}\n",
    "\n",
    "# write the code to get the output as shown above\n",
    "dial_codes = [\n",
    "    (880, 'Bangladesh'),\n",
    "    (55,  'Brazil'),\n",
    "    (86,  'China'),\n",
    "    (91,  'India'),\n",
    "    (62,  'Indonesia'),\n",
    "    (81,  'Japan'),\n",
    "    (234, 'Nigeria'),\n",
    "    (92,  'Pakistan'),\n",
    "    (7,   'Russia'),\n",
    "    (1,   'United States'),\n",
    "]\n",
    "\n",
    "country_dial = { country: code for code, country in dial_codes }\n",
    "\n",
    "print(country_dial)\n",
    "\n",
    "print({ code: country.upper() for country, code in sorted(country_dial.items()) if code < 70 })\n"
   ]
  },
  {
   "cell_type": "markdown",
   "metadata": {},
   "source": [
    "## Unpacking Mappings"
   ]
  },
  {
   "cell_type": "markdown",
   "metadata": {},
   "source": [
    "\" First, we can apply ** to more than one argument in a function call. This works when\n",
    " keys are all strings and unique across all arguments (because duplicate keyword argu\n",
    "ments are forbidden):\""
   ]
  },
  {
   "cell_type": "code",
   "execution_count": 1,
   "metadata": {},
   "outputs": [
    {
     "name": "stdout",
     "output_type": "stream",
     "text": [
      "{'x': 1, 'y': 2, 'z': 3}\n"
     ]
    }
   ],
   "source": [
    "def dump(**kwargs):\n",
    "    print(kwargs)\n",
    "\n",
    "dump(**{'x': 1}, y=2, **{'z': 3})"
   ]
  },
  {
   "cell_type": "markdown",
   "metadata": {},
   "source": [
    "\"Second, ** can be used inside a dict literal—also multiple times:\""
   ]
  },
  {
   "cell_type": "code",
   "execution_count": 2,
   "metadata": {},
   "outputs": [
    {
     "data": {
      "text/plain": [
       "{'a': 0, 'x': 4, 'y': 2, 'z': 3}"
      ]
     },
     "execution_count": 2,
     "metadata": {},
     "output_type": "execute_result"
    }
   ],
   "source": [
    "{'a': 0, **{'x': 1}, 'y': 2, **{'z': 3, 'x': 4}}"
   ]
  },
  {
   "cell_type": "markdown",
   "metadata": {},
   "source": [
    " In this case, duplicate keys are allowed. Later occurrences overwrite previous ones—\n",
    " see the value mapped to x in the example."
   ]
  },
  {
   "cell_type": "markdown",
   "metadata": {},
   "source": [
    "## Merging Mappings with |"
   ]
  },
  {
   "cell_type": "markdown",
   "metadata": {},
   "source": [
    "\"Python 3.9 supports using | and |= to merge mappings. This makes sense, since these\n",
    " are also the set union operators.\n",
    " The | operator creates a new mapping:\""
   ]
  },
  {
   "cell_type": "code",
   "execution_count": 3,
   "metadata": {},
   "outputs": [
    {
     "data": {
      "text/plain": [
       "{'a': 2, 'b': 4, 'c': 6}"
      ]
     },
     "execution_count": 3,
     "metadata": {},
     "output_type": "execute_result"
    }
   ],
   "source": [
    "d1 = {'a': 1, 'b': 3}\n",
    "d2 = {'a': 2, 'b': 4, 'c': 6}\n",
    "d1 | d2"
   ]
  },
  {
   "cell_type": "markdown",
   "metadata": {},
   "source": [
    "\"To update an existing mapping in place, use |=. Continuing from the previous example, d1 was not changed, but now it is:\""
   ]
  },
  {
   "cell_type": "code",
   "execution_count": 4,
   "metadata": {},
   "outputs": [
    {
     "name": "stdout",
     "output_type": "stream",
     "text": [
      "d1: {'a': 1, 'b': 3}\n",
      "d1: {'a': 2, 'b': 4, 'c': 6}\n"
     ]
    }
   ],
   "source": [
    "print(f\"d1: {d1}\")\n",
    "d1 |= d2\n",
    "print(f\"d1: {d1}\")"
   ]
  },
  {
   "cell_type": "code",
   "execution_count": null,
   "metadata": {},
   "outputs": [],
   "source": []
  }
 ],
 "metadata": {
  "kernelspec": {
   "display_name": "base",
   "language": "python",
   "name": "python3"
  },
  "language_info": {
   "codemirror_mode": {
    "name": "ipython",
    "version": 3
   },
   "file_extension": ".py",
   "mimetype": "text/x-python",
   "name": "python",
   "nbconvert_exporter": "python",
   "pygments_lexer": "ipython3",
   "version": "3.11.7"
  }
 },
 "nbformat": 4,
 "nbformat_minor": 2
}
